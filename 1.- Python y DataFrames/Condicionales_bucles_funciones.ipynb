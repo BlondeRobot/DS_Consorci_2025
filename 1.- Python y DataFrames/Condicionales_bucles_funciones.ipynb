{
 "cells": [
  {
   "cell_type": "markdown",
   "metadata": {
    "id": "ONZTEU0Yy4MF"
   },
   "source": [
    "![image.png](attachment:image.png)"
   ]
  },
  {
   "cell_type": "markdown",
   "metadata": {
    "id": "9yZzWpQiy4MK"
   },
   "source": [
    "## CONDICIONALES\n",
    "\n",
    "El formato más común para establecer condiciones es la cláusula IF-ELSE.\n",
    "\n",
    "Con IF definimos cuál es el criterio que se debe cumplir para continuar, en el caso de que no sea cumplido damos otras órdenes a través de ELSE.\n",
    "\n",
    "ELIF establece condiciones también pero posteriores al primer IF\n",
    "\n",
    "No es obligatorio acabar con un ELSE, pero si no lo haces corres el riesgo de que haya alguna casuística en la que no ejecutes ninguna orden"
   ]
  },
  {
   "cell_type": "code",
   "execution_count": null,
   "metadata": {
    "id": "vSV2U3Xoy4ML",
    "outputId": "53b5e89c-6a74-495b-ec85-647693eb4de5"
   },
   "outputs": [
    {
     "name": "stdout",
     "output_type": "stream",
     "text": [
      "a is greater\n"
     ]
    }
   ],
   "source": [
    "a = 12\n",
    "b = 1\n",
    "\n",
    "if a>b:                     \n",
    "    print('a is greater')     \n",
    "elif b>a:\n",
    "    print('b is greater')\n",
    "else:\n",
    "    print('they both are equal')"
   ]
  },
  {
   "cell_type": "code",
   "execution_count": null,
   "metadata": {
    "id": "1CoIKJh8y4MN"
   },
   "outputs": [],
   "source": []
  },
  {
   "cell_type": "markdown",
   "metadata": {
    "id": "OLo7EVDQy4MN"
   },
   "source": [
    "## Bucles\n",
    "\n",
    "Los bucles son herramientas que te permiten iterar dentro de los elementos de un objeto, como una lista o diccionario. O bien, repetir una acción tantas veces como desees, hasta que se cumpla una condición.\n",
    "\n",
    "Son muy útiles en combinación de de condiciones IF-ELSE"
   ]
  },
  {
   "cell_type": "markdown",
   "metadata": {
    "id": "cLiwpgHgy4MO"
   },
   "source": [
    "## FOR\n",
    "\n",
    "Los bucles FOR están ideados para pasar por los elementos de un objeto. Normalmente son listas. \n",
    "\n",
    "Hay dos formas de pasar por estos **elementos**, a través de cada uno de ellos o a través de sus **índices**"
   ]
  },
  {
   "cell_type": "markdown",
   "metadata": {
    "id": "hWeD1Xzxy4MO"
   },
   "source": [
    "En este caso \"viajamos\" por los diferentes elementos de la lista numeros. En cada vuelta num toma el valor de un elemento, en la vuelta siguiente cambiará al próximo"
   ]
  },
  {
   "cell_type": "code",
   "execution_count": 2,
   "metadata": {
    "colab": {
     "base_uri": "https://localhost:8080/"
    },
    "executionInfo": {
     "elapsed": 248,
     "status": "ok",
     "timestamp": 1678179692792,
     "user": {
      "displayName": "Beltran Vazquez",
      "userId": "10815799323004140919"
     },
     "user_tz": -60
    },
    "id": "MW8yz-ycy4MP",
    "outputId": "06097eb6-eda4-492e-baa7-bd8e52331616"
   },
   "outputs": [
    {
     "name": "stdout",
     "output_type": "stream",
     "text": [
      "numero 1\n",
      "numero 2\n",
      "numero 3\n",
      "numero 5\n",
      "numero 7\n",
      "numero 8\n"
     ]
    }
   ],
   "source": [
    "numeros = [1, 2, 3, 5, 7, 8]\n",
    "for num in numeros:\n",
    "  print(\"numero\", num)"
   ]
  },
  {
   "cell_type": "markdown",
   "metadata": {
    "id": "dD1dAvT-y4MP"
   },
   "source": [
    "Los índices son las posiciones en las que se encuentran cada uno de los elementos, como si fueran cajitas. En la primera vuelta vamos a la cajita 0 e imprimimos su elemento (index 0 numero 1). En las iteraciones siguientes aumenta en uno el índice y con él la información que contiene (numero 2, numero 3...)"
   ]
  },
  {
   "cell_type": "code",
   "execution_count": null,
   "metadata": {
    "id": "rLBMtyfDy4MQ",
    "outputId": "931bc6a2-c135-4b30-9db6-925a6b54c32d"
   },
   "outputs": [
    {
     "name": "stdout",
     "output_type": "stream",
     "text": [
      "index 0 numero 1\n",
      "index 1 numero 2\n",
      "index 2 numero 3\n",
      "index 3 numero 5\n",
      "index 4 numero 7\n",
      "index 5 numero 8\n"
     ]
    }
   ],
   "source": [
    "numeros = [1, 2, 3, 5, 7, 8]\n",
    "for i in range(len(numeros)):\n",
    "    print(\"index\", i, \"numero\", numeros[i])"
   ]
  },
  {
   "cell_type": "markdown",
   "metadata": {
    "id": "mvEbsom5y4MQ"
   },
   "source": [
    "Para saber si un bucle for está buscando la información de la lista por elemento o por índice basta fijarse en la segunda parte de su definición, a partir del \"in\", si tiene directamente la lista (como en el primer ejemplo \"numeros\") busca la información elemento por elemento, si en cambio tiene un rango estamos buscando por índice, ya que le estamos indicando cuántas veces tiene que iterar, en nuestro caso 6, que es la longitud/tamaño (len) de la lista numeros"
   ]
  },
  {
   "cell_type": "markdown",
   "metadata": {
    "id": "pcd65eyPy4MR"
   },
   "source": [
    "a continuación incluimos una condición dentro del bucle FOR"
   ]
  },
  {
   "cell_type": "code",
   "execution_count": null,
   "metadata": {
    "id": "SmnWbBxKy4MR",
    "outputId": "fbf35b8e-cb88-4314-a778-154030e69751"
   },
   "outputs": [
    {
     "name": "stdout",
     "output_type": "stream",
     "text": [
      "es muy bajo el numero para imprimir\n",
      "es muy bajo el numero para imprimir\n",
      "numero 3\n",
      "numero 5\n",
      "numero 7\n",
      "numero 8\n"
     ]
    }
   ],
   "source": [
    "numeros = [1, 2, 3, 5, 7, 8]\n",
    "for num in numeros:\n",
    "    if num >= 3:\n",
    "        print(\"numero\", num)\n",
    "    else:\n",
    "        print(\"es muy bajo el numero para imprimir\")"
   ]
  },
  {
   "cell_type": "code",
   "execution_count": null,
   "metadata": {
    "id": "q5ctQkUpy4MS",
    "outputId": "a64a02c5-53f2-4d2c-8d4a-3a81b4854830"
   },
   "outputs": [
    {
     "name": "stdout",
     "output_type": "stream",
     "text": [
      "index 4 numero 7\n",
      "index 5 numero 8\n"
     ]
    }
   ],
   "source": [
    "numeros = [1, 2, 3, 5, 7, 8]\n",
    "for i in range(len(numeros)):\n",
    "    if i > 3:\n",
    "        print(\"index\", i, \"numero\", numeros[i])"
   ]
  },
  {
   "cell_type": "markdown",
   "metadata": {
    "id": "O-jfok0oy4MS"
   },
   "source": [
    "## WHILE\n",
    "\n",
    "Cuando iniciamos un bucle WHILE se repetirán todas las acciones que hay dentro de él hasta que se cumpla una condición\n",
    "\n",
    "⚠️ Atención asegurarse de que esa condición se cumple en algún momento!!"
   ]
  },
  {
   "cell_type": "code",
   "execution_count": null,
   "metadata": {
    "id": "Ufm5xS8Ky4MS",
    "outputId": "e591c681-2dfa-4925-b910-2b2ecf3b86d7"
   },
   "outputs": [
    {
     "name": "stdout",
     "output_type": "stream",
     "text": [
      "0\n",
      "1\n",
      "2\n",
      "3\n",
      "4\n"
     ]
    }
   ],
   "source": [
    "count = 0\n",
    "while count < 5:\n",
    "    print(count)\n",
    "    count += 1\n",
    "    "
   ]
  },
  {
   "cell_type": "code",
   "execution_count": null,
   "metadata": {
    "id": "boPUmDMky4MT",
    "outputId": "b2021b5d-4307-4c46-8542-972fb828081a"
   },
   "outputs": [
    {
     "name": "stdout",
     "output_type": "stream",
     "text": [
      "1\n",
      "3\n"
     ]
    }
   ],
   "source": [
    "count = 0\n",
    "while count < 5:\n",
    "    if count % 2 != 0:\n",
    "        print(count)\n",
    "        count += 1"
   ]
  },
  {
   "cell_type": "markdown",
   "metadata": {
    "id": "zihGqYPpy4MT"
   },
   "source": [
    "## BREAK\n",
    "\n",
    "Este comando es usado cuando quieres parar el bucle, sea FOR o WHILE"
   ]
  },
  {
   "cell_type": "code",
   "execution_count": null,
   "metadata": {
    "id": "ZqpaUF1Qy4MT",
    "outputId": "9ab27dfe-829b-4999-e27a-1c89de8dd1bb"
   },
   "outputs": [
    {
     "name": "stdout",
     "output_type": "stream",
     "text": [
      "1\n"
     ]
    }
   ],
   "source": [
    "count = 0\n",
    "while count < 5:\n",
    "    if count % 2 != 0:\n",
    "        print(count)\n",
    "        break\n",
    "    count += 1"
   ]
  },
  {
   "cell_type": "markdown",
   "metadata": {
    "id": "mkOE6kCqy4MT"
   },
   "source": [
    "## CONTINUE\n",
    "\n",
    "CONTINUE es usado cuando quieres salir del bloque en el que te encuentras pero no parar la ejecución o el bucle. En este caso sale de la condición IF y vuelve al inicio del WHILE, sin pasar por el count += 1. Lo que ocurre aquí es que como no le suma 1 al objeto count siempre vale 0, por lo tanto siempre es menor que cinco y entonces nunca para de ejecutar, el WHILE no tiene fin."
   ]
  },
  {
   "cell_type": "code",
   "execution_count": null,
   "metadata": {
    "id": "xj9o7aApy4MU"
   },
   "outputs": [],
   "source": [
    "count = 0\n",
    "while count < 5:\n",
    "    if count % 2 != 0:\n",
    "        print(count)\n",
    "        pass\n",
    "    count += 1\n"
   ]
  },
  {
   "cell_type": "markdown",
   "metadata": {
    "id": "C9zHr0K_y4MU"
   },
   "source": [
    "En este caso sí tiene fin porque suma un valor a count antes del CONTINUE, sin embargo el segundo print(\"continue\") nunca es ejecutado"
   ]
  },
  {
   "cell_type": "code",
   "execution_count": null,
   "metadata": {
    "id": "_QzHhjyey4MU",
    "outputId": "ec610ce7-c940-4564-ac1a-5425612793fe"
   },
   "outputs": [
    {
     "name": "stdout",
     "output_type": "stream",
     "text": [
      "1\n",
      "3\n",
      "5\n"
     ]
    }
   ],
   "source": [
    "count = 0\n",
    "while count < 5:\n",
    "    count += 1\n",
    "    if count % 2 != 0:\n",
    "        print(count)\n",
    "        continue\n",
    "        print(\"continue\")\n",
    "    "
   ]
  },
  {
   "cell_type": "markdown",
   "metadata": {
    "id": "3uFIrK_ky4MU"
   },
   "source": [
    "## FUNCIONES\n",
    "\n",
    "Herramientas que nosostros creamos a nuestro antojo para que realicen las tareas que más nos convengan.\n",
    "\n",
    "Tienen **argumentos** de entrada, que no siempre son obligatorios"
   ]
  },
  {
   "cell_type": "markdown",
   "metadata": {
    "id": "bfwwFP4Oy4MV"
   },
   "source": [
    "El bucle FOR va iterando por cada uno de los key y los value del diccionario, según la condición imprime en pantalla una cosa u otra"
   ]
  },
  {
   "cell_type": "code",
   "execution_count": null,
   "metadata": {
    "id": "fscy0n_Ty4MV",
    "outputId": "3fa49d6f-fdd0-45c0-e76c-3a49396a2277"
   },
   "outputs": [
    {
     "name": "stdout",
     "output_type": "stream",
     "text": [
      "{'Jonh': 1989, 'Mari': 1995, 'Mich': 1960}\n"
     ]
    }
   ],
   "source": [
    "name1 = \"Jonh\"\n",
    "birth_year1 = 1989\n",
    "\n",
    "name2 = \"Mari\"\n",
    "birth_year2 = 1995\n",
    "\n",
    "name3 = \"Mich\"\n",
    "birth_year3 = 1960\n",
    "    \n",
    "Dictionary={name1:birth_year1, name2:birth_year2, name3:birth_year3}\n",
    "print(Dictionary)"
   ]
  },
  {
   "cell_type": "code",
   "execution_count": null,
   "metadata": {
    "id": "t_McyeFPy4MV"
   },
   "outputs": [],
   "source": [
    "def generation_calculator(Dictionary):\n",
    "    for key,value in Dictionary.items():\n",
    "        if value <1949:\n",
    "            print(key,\"Silent Generation\")\n",
    "        elif value<1969:                  \n",
    "            print(key,\"Baby Boomer\")\n",
    "        elif value<1981:\n",
    "            print(key,\"X Generation\")\n",
    "        elif value<1994:\n",
    "            print(key,\"Millenials\")\n",
    "        else:\n",
    "            print(key,\"Z Generation\") \n",
    "    return variable"
   ]
  },
  {
   "cell_type": "code",
   "execution_count": null,
   "metadata": {
    "id": "eVaKhjU2y4MV",
    "outputId": "215cbafb-3f33-4ecc-ffc2-65b1a944da58"
   },
   "outputs": [
    {
     "name": "stdout",
     "output_type": "stream",
     "text": [
      "Jonh Millenials\n",
      "Mari Z Generation\n",
      "Mich Baby Boomer\n"
     ]
    }
   ],
   "source": [
    "generation_calculator(Dictionary)"
   ]
  },
  {
   "cell_type": "code",
   "execution_count": null,
   "metadata": {
    "id": "-ORtjB38y4MV"
   },
   "outputs": [],
   "source": []
  }
 ],
 "metadata": {
  "colab": {
   "provenance": []
  },
  "kernelspec": {
   "display_name": "Python 3 (ipykernel)",
   "language": "python",
   "name": "python3"
  },
  "language_info": {
   "codemirror_mode": {
    "name": "ipython",
    "version": 3
   },
   "file_extension": ".py",
   "mimetype": "text/x-python",
   "name": "python",
   "nbconvert_exporter": "python",
   "pygments_lexer": "ipython3",
   "version": "3.9.13"
  }
 },
 "nbformat": 4,
 "nbformat_minor": 1
}
